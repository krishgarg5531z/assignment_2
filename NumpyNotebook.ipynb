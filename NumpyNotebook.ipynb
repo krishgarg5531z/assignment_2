{
 "cells": [
  {
   "cell_type": "code",
   "id": "initial_id",
   "metadata": {
    "collapsed": true,
    "ExecuteTime": {
     "end_time": "2025-06-02T07:13:46.922251Z",
     "start_time": "2025-06-02T07:13:46.919686Z"
    }
   },
   "source": [
    "import numpy as np\n",
    "from sipbuild.generator.parser.tokens import states"
   ],
   "outputs": [],
   "execution_count": 3
  },
  {
   "metadata": {
    "ExecuteTime": {
     "end_time": "2025-06-02T07:18:49.766542Z",
     "start_time": "2025-06-02T07:18:49.758970Z"
    }
   },
   "cell_type": "code",
   "source": [
    "a = np.array([1,2,3,4,5], dtype= 'int16')\n",
    "print(a)"
   ],
   "id": "3c422efbd2b3799",
   "outputs": [
    {
     "name": "stdout",
     "output_type": "stream",
     "text": [
      "[1 2 3 4 5]\n"
     ]
    }
   ],
   "execution_count": 16
  },
  {
   "metadata": {
    "ExecuteTime": {
     "end_time": "2025-06-02T07:15:22.109446Z",
     "start_time": "2025-06-02T07:15:22.106958Z"
    }
   },
   "cell_type": "code",
   "source": [
    "b = np.array([[1,2,3,4,5], [6,7,8,9,10]])\n",
    "print(b)"
   ],
   "id": "4c882f85af9d022c",
   "outputs": [
    {
     "name": "stdout",
     "output_type": "stream",
     "text": [
      "[[ 1  2  3  4  5]\n",
      " [ 6  7  8  9 10]]\n"
     ]
    }
   ],
   "execution_count": 7
  },
  {
   "metadata": {
    "ExecuteTime": {
     "end_time": "2025-06-02T07:16:00.578561Z",
     "start_time": "2025-06-02T07:16:00.569697Z"
    }
   },
   "cell_type": "code",
   "source": [
    "# Get dimension\n",
    "a.ndim\n"
   ],
   "id": "b60965add29fd056",
   "outputs": [
    {
     "data": {
      "text/plain": [
       "1"
      ]
     },
     "execution_count": 9,
     "metadata": {},
     "output_type": "execute_result"
    }
   ],
   "execution_count": 9
  },
  {
   "metadata": {
    "ExecuteTime": {
     "end_time": "2025-06-02T07:17:14.434415Z",
     "start_time": "2025-06-02T07:17:14.430902Z"
    }
   },
   "cell_type": "code",
   "source": "b.ndim",
   "id": "4d583cf81455fae1",
   "outputs": [
    {
     "data": {
      "text/plain": [
       "2"
      ]
     },
     "execution_count": 12,
     "metadata": {},
     "output_type": "execute_result"
    }
   ],
   "execution_count": 12
  },
  {
   "metadata": {
    "ExecuteTime": {
     "end_time": "2025-06-02T07:17:23.706883Z",
     "start_time": "2025-06-02T07:17:23.702479Z"
    }
   },
   "cell_type": "code",
   "source": "b.shape",
   "id": "d46d04cc2c32b7f6",
   "outputs": [
    {
     "data": {
      "text/plain": [
       "(2, 5)"
      ]
     },
     "execution_count": 13,
     "metadata": {},
     "output_type": "execute_result"
    }
   ],
   "execution_count": 13
  },
  {
   "metadata": {
    "ExecuteTime": {
     "end_time": "2025-06-02T07:18:51.488760Z",
     "start_time": "2025-06-02T07:18:51.484442Z"
    }
   },
   "cell_type": "code",
   "source": [
    "# Get type\n",
    "a.dtype"
   ],
   "id": "a8889cbb077ff213",
   "outputs": [
    {
     "data": {
      "text/plain": [
       "dtype('int16')"
      ]
     },
     "execution_count": 17,
     "metadata": {},
     "output_type": "execute_result"
    }
   ],
   "execution_count": 17
  },
  {
   "metadata": {
    "ExecuteTime": {
     "end_time": "2025-06-02T07:19:16.231699Z",
     "start_time": "2025-06-02T07:19:16.226809Z"
    }
   },
   "cell_type": "code",
   "source": [
    "# Get Size\n",
    "a.itemsize"
   ],
   "id": "cbc7beb62756b01f",
   "outputs": [
    {
     "data": {
      "text/plain": [
       "2"
      ]
     },
     "execution_count": 18,
     "metadata": {},
     "output_type": "execute_result"
    }
   ],
   "execution_count": 18
  },
  {
   "metadata": {
    "ExecuteTime": {
     "end_time": "2025-06-02T07:32:59.341758Z",
     "start_time": "2025-06-02T07:32:59.338217Z"
    }
   },
   "cell_type": "code",
   "source": [
    "\n",
    "\n",
    "# Get total size\n",
    "\n",
    "a.nbytes\n"
   ],
   "id": "48186614bb8ba1ef",
   "outputs": [
    {
     "data": {
      "text/plain": [
       "10"
      ]
     },
     "execution_count": 26,
     "metadata": {},
     "output_type": "execute_result"
    }
   ],
   "execution_count": 26
  },
  {
   "metadata": {},
   "cell_type": "markdown",
   "source": "",
   "id": "9a92f8e340f00cf3"
  },
  {
   "metadata": {},
   "cell_type": "markdown",
   "source": "be carefull while copying arrays\n",
   "id": "8bec4ef2db94a639"
  },
  {
   "metadata": {
    "ExecuteTime": {
     "end_time": "2025-06-02T07:44:25.836603Z",
     "start_time": "2025-06-02T07:44:25.828906Z"
    }
   },
   "cell_type": "code",
   "source": [
    "output = np.ones((5,5))\n",
    "print(output)\n",
    "z=np.zeros((3,3))\n",
    "z[1,1]=9\n",
    "print(z)\n",
    "output[1:4, 1:4]=z\n",
    "print(output)"
   ],
   "id": "fe04de6f4f91d4e1",
   "outputs": [
    {
     "name": "stdout",
     "output_type": "stream",
     "text": [
      "[[1. 1. 1. 1. 1.]\n",
      " [1. 1. 1. 1. 1.]\n",
      " [1. 1. 1. 1. 1.]\n",
      " [1. 1. 1. 1. 1.]\n",
      " [1. 1. 1. 1. 1.]]\n",
      "[[0. 0. 0.]\n",
      " [0. 9. 0.]\n",
      " [0. 0. 0.]]\n",
      "[[1. 1. 1. 1. 1.]\n",
      " [1. 0. 0. 0. 1.]\n",
      " [1. 0. 9. 0. 1.]\n",
      " [1. 0. 0. 0. 1.]\n",
      " [1. 1. 1. 1. 1.]]\n"
     ]
    }
   ],
   "execution_count": null
  },
  {
   "metadata": {
    "ExecuteTime": {
     "end_time": "2025-06-02T07:46:34.832318Z",
     "start_time": "2025-06-02T07:46:34.825447Z"
    }
   },
   "cell_type": "code",
   "source": [
    "np.matmul(a,b)\n",
    "np.identity(3)\n",
    "np.linalg.det(a)\n",
    "np.linalg.inv(a)\n",
    "\n"
   ],
   "id": "ba9755ae8053aac7",
   "outputs": [
    {
     "name": "stdout",
     "output_type": "stream",
     "text": [
      "[1 2 3 4 5]\n"
     ]
    }
   ],
   "execution_count": 36
  },
  {
   "metadata": {},
   "cell_type": "markdown",
   "source": "Statistics\n",
   "id": "98f65c1da0deff4a"
  },
  {
   "metadata": {
    "ExecuteTime": {
     "end_time": "2025-06-02T07:51:46.035265Z",
     "start_time": "2025-06-02T07:51:46.025751Z"
    }
   },
   "cell_type": "code",
   "source": [
    "stats= np.array([[1,2,3],[4,5,6]])\n",
    "stats"
   ],
   "id": "50f456cc535d6f58",
   "outputs": [
    {
     "data": {
      "text/plain": [
       "array([[1, 2, 3],\n",
       "       [4, 5, 6]])"
      ]
     },
     "execution_count": 38,
     "metadata": {},
     "output_type": "execute_result"
    }
   ],
   "execution_count": 38
  },
  {
   "metadata": {
    "ExecuteTime": {
     "end_time": "2025-06-02T07:51:58.046070Z",
     "start_time": "2025-06-02T07:51:58.038622Z"
    }
   },
   "cell_type": "code",
   "source": "np.min(stats)",
   "id": "ba02145cbcf1615f",
   "outputs": [
    {
     "data": {
      "text/plain": [
       "np.int64(1)"
      ]
     },
     "execution_count": 39,
     "metadata": {},
     "output_type": "execute_result"
    }
   ],
   "execution_count": 39
  },
  {
   "metadata": {},
   "cell_type": "code",
   "outputs": [],
   "execution_count": null,
   "source": "",
   "id": "591fa3b7fa399c82"
  },
  {
   "metadata": {},
   "cell_type": "code",
   "outputs": [],
   "execution_count": null,
   "source": "",
   "id": "c8364e13c9cbedb4"
  }
 ],
 "metadata": {
  "kernelspec": {
   "display_name": "Python 3",
   "language": "python",
   "name": "python3"
  },
  "language_info": {
   "codemirror_mode": {
    "name": "ipython",
    "version": 2
   },
   "file_extension": ".py",
   "mimetype": "text/x-python",
   "name": "python",
   "nbconvert_exporter": "python",
   "pygments_lexer": "ipython2",
   "version": "2.7.6"
  }
 },
 "nbformat": 4,
 "nbformat_minor": 5
}
